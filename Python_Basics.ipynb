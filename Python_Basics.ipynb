{
  "nbformat": 4,
  "nbformat_minor": 0,
  "metadata": {
    "kernelspec": {
      "display_name": "Python 3",
      "language": "python",
      "name": "python3"
    },
    "language_info": {
      "codemirror_mode": {
        "name": "ipython",
        "version": 3
      },
      "file_extension": ".py",
      "mimetype": "text/x-python",
      "name": "python",
      "nbconvert_exporter": "python",
      "pygments_lexer": "ipython3",
      "version": "3.7.3"
    },
    "colab": {
      "name": "“Python_Basics.ipynb”的副本",
      "provenance": [],
      "collapsed_sections": []
    }
  },
  "cells": [
    {
      "cell_type": "markdown",
      "metadata": {
        "id": "EWzcLSjDwDwr",
        "colab_type": "text"
      },
      "source": [
        "# This is our first jupyter notebook"
      ]
    },
    {
      "cell_type": "markdown",
      "metadata": {
        "id": "xLdipa3_wDws",
        "colab_type": "text"
      },
      "source": [
        "### Markdown cell example:\n",
        "$x = \\frac{-b\\pm\\sqrt{b^2-4ac}}{2a}$"
      ]
    },
    {
      "cell_type": "markdown",
      "metadata": {
        "id": "-2-5SBl8wDwv",
        "colab_type": "text"
      },
      "source": [
        "## Basic programming aspects of Python"
      ]
    },
    {
      "cell_type": "code",
      "metadata": {
        "id": "ds0rxGAWwDww",
        "colab_type": "code",
        "outputId": "bb7bc785-20b1-4332-fef1-8f8851e6de05",
        "colab": {}
      },
      "source": [
        "#print the version of python you are using:\n",
        "import sys\n",
        "print(\"Python version\")\n",
        "print (sys.version)"
      ],
      "execution_count": 0,
      "outputs": [
        {
          "output_type": "stream",
          "text": [
            "Python version\n",
            "3.7.3 (default, Mar 27 2019, 17:13:21) [MSC v.1915 64 bit (AMD64)]\n"
          ],
          "name": "stdout"
        }
      ]
    },
    {
      "cell_type": "markdown",
      "metadata": {
        "id": "FN__2GzVwDw2",
        "colab_type": "text"
      },
      "source": [
        "#### Variables"
      ]
    },
    {
      "cell_type": "code",
      "metadata": {
        "id": "KdEywbeTwDw4",
        "colab_type": "code",
        "outputId": "ae0d7625-585f-45f1-da2f-85b5cd025e0a",
        "colab": {}
      },
      "source": [
        "#Two types of key variables: numerical and string\n",
        "x = 10  # Integer variable\n",
        "y = \"Hello World\"  # String variable\n",
        " \n",
        "# Displaying variables value using **print** statement\n",
        "print(x)\n",
        "print(y)"
      ],
      "execution_count": 0,
      "outputs": [
        {
          "output_type": "stream",
          "text": [
            "10\n",
            "Hello World\n"
          ],
          "name": "stdout"
        }
      ]
    },
    {
      "cell_type": "code",
      "metadata": {
        "id": "hxTOqFp9wDw9",
        "colab_type": "code",
        "outputId": "532eac74-48b7-448f-9f36-252b2ea88053",
        "colab": {}
      },
      "source": [
        "#Checking type of variable\n",
        "var1 = 'Hello World'\n",
        "print(type(var1))\n",
        " \n",
        "var2 = 100\n",
        "if type(var2) == int:\n",
        "    print('Integer')"
      ],
      "execution_count": 0,
      "outputs": [
        {
          "output_type": "stream",
          "text": [
            "<class 'str'>\n",
            "Integer\n"
          ],
          "name": "stdout"
        }
      ]
    },
    {
      "cell_type": "markdown",
      "metadata": {
        "id": "0aGW9ivewDxD",
        "colab_type": "text"
      },
      "source": [
        "### Execise 1:\n",
        "\n",
        "Write a Python program to print the following string in a specific format using \\n and \\t (see the output). Go to the editor\n",
        "Sample String : \"Twinkle, twinkle, little star, How I wonder what you are! Up above the world so high, Like a diamond in the sky. Twinkle, twinkle, little star, How I wonder what you are\" Output :"
      ]
    },
    {
      "cell_type": "code",
      "metadata": {
        "id": "asQzry9FwDxF",
        "colab_type": "code",
        "outputId": "a9edacfc-51a2-41aa-d191-65f44b149d65",
        "colab": {
          "base_uri": "https://localhost:8080/",
          "height": 118
        }
      },
      "source": [
        "print(\"\"\"Twinkle, twinkle, little star,\\n\\tHow I wonder what you are! \\n\\t\\tUp above the world so high,\\n\\t\\tLike a diamond in the sky. \\nTwinkle, twinkle, little star, \\n\\tHow I wonder what you are\"\"\")"
      ],
      "execution_count": 0,
      "outputs": [
        {
          "output_type": "stream",
          "text": [
            "Twinkle, twinkle, little star,\n",
            "\tHow I wonder what you are! \n",
            "\t\tUp above the world so high,\n",
            "\t\tLike a diamond in the sky. \n",
            "Twinkle, twinkle, little star, \n",
            "\tHow I wonder what you are\n"
          ],
          "name": "stdout"
        }
      ]
    },
    {
      "cell_type": "markdown",
      "metadata": {
        "id": "iK1xOyYfwDxM",
        "colab_type": "text"
      },
      "source": [
        "#### Functions"
      ]
    },
    {
      "cell_type": "code",
      "metadata": {
        "id": "wv-7GbASwDxN",
        "colab_type": "code",
        "outputId": "1f3293a5-8d81-4872-fdac-f60ded258397",
        "colab": {}
      },
      "source": [
        "#Here is an example of a basic function\n",
        "def square(x):\n",
        "    \"\"\"This program calculates the square\n",
        "    input is x\n",
        "    returns the square of x\"\"\"\n",
        "    out = x*x\n",
        "    return out\n",
        "\n",
        "print(square(10))"
      ],
      "execution_count": 0,
      "outputs": [
        {
          "output_type": "stream",
          "text": [
            "100\n"
          ],
          "name": "stdout"
        }
      ]
    },
    {
      "cell_type": "code",
      "metadata": {
        "id": "vWUTMKYJwDxW",
        "colab_type": "code",
        "outputId": "91e2877e-9e00-43d8-fa3a-daa920b89575",
        "colab": {}
      },
      "source": [
        "a = int(input(\"Input an integer : \"))\n",
        "print(square(a))"
      ],
      "execution_count": 0,
      "outputs": [
        {
          "output_type": "stream",
          "text": [
            "Input an integer : 57\n",
            "3249\n"
          ],
          "name": "stdout"
        }
      ]
    },
    {
      "cell_type": "markdown",
      "metadata": {
        "id": "4kTWUHaHwDxc",
        "colab_type": "text"
      },
      "source": [
        "### Exercise 2:\n",
        "Write a Python program that accepts an integer (n) and computes the value of n+nn+nnn."
      ]
    },
    {
      "cell_type": "code",
      "metadata": {
        "id": "-L6fga3GwlVJ",
        "colab_type": "code",
        "outputId": "3217ceee-5f1a-4e4e-e244-fe462012f8bc",
        "colab": {
          "base_uri": "https://localhost:8080/",
          "height": 50
        }
      },
      "source": [
        "a = int(input(\"Input an integer : \"))\n",
        "print(123*a)"
      ],
      "execution_count": 0,
      "outputs": [
        {
          "output_type": "stream",
          "text": [
            "Input an integer : 5\n",
            "615\n"
          ],
          "name": "stdout"
        }
      ]
    },
    {
      "cell_type": "markdown",
      "metadata": {
        "id": "mnLEhWQhwDxd",
        "colab_type": "text"
      },
      "source": [
        "#### Conditionals"
      ]
    },
    {
      "cell_type": "code",
      "metadata": {
        "id": "VK7gfwIXwDxf",
        "colab_type": "code",
        "outputId": "08c46391-f63b-41c3-8974-9c35efd97ffd",
        "colab": {}
      },
      "source": [
        "#if statement\n",
        "x = 10\n",
        "y = 20\n",
        " \n",
        "if x < y:\n",
        "    print(\"x is less than y\")"
      ],
      "execution_count": 0,
      "outputs": [
        {
          "output_type": "stream",
          "text": [
            "x is less than y\n"
          ],
          "name": "stdout"
        }
      ]
    },
    {
      "cell_type": "code",
      "metadata": {
        "id": "oMmqHkoCwDxn",
        "colab_type": "code",
        "outputId": "ceea2a81-397c-4216-91cb-e7bfa070aa31",
        "colab": {}
      },
      "source": [
        "#if-then-else\n",
        "x = 10\n",
        "y = 5\n",
        " \n",
        "if x < y:\n",
        "    print(\"x is less than y\")\n",
        "else:\n",
        "    print(\"y is less than x\")"
      ],
      "execution_count": 0,
      "outputs": [
        {
          "output_type": "stream",
          "text": [
            "y is less than x\n"
          ],
          "name": "stdout"
        }
      ]
    },
    {
      "cell_type": "markdown",
      "metadata": {
        "id": "xIoQvX3LwDxs",
        "colab_type": "text"
      },
      "source": [
        "### Exercise 3:\n",
        "Write a Python program to find whether a given number (accept from the user) is even or odd, print out an appropriate message to the user"
      ]
    },
    {
      "cell_type": "code",
      "metadata": {
        "id": "Jy8SoXynw8D4",
        "colab_type": "code",
        "outputId": "ac75e97f-a0cb-47f9-a63a-c2e606743067",
        "colab": {
          "base_uri": "https://localhost:8080/",
          "height": 50
        }
      },
      "source": [
        "a = int(input(\"Input an integer : \"))\n",
        "if (a % 2) == 1:\n",
        "  print(\"it's odd.\")\n",
        "else: \n",
        "  print(\"it's even.\")"
      ],
      "execution_count": 0,
      "outputs": [
        {
          "output_type": "stream",
          "text": [
            "Input an integer : 0\n",
            "it's even.\n"
          ],
          "name": "stdout"
        }
      ]
    },
    {
      "cell_type": "code",
      "metadata": {
        "id": "Y0IwSxJ8wDxt",
        "colab_type": "code",
        "outputId": "1c3d088c-1c89-4a3b-9b6b-36650765128e",
        "colab": {}
      },
      "source": [
        "#extension\n",
        "x = 10\n",
        "y = 10\n",
        "z = 15\n",
        " \n",
        "if x < y:\n",
        "    print(\"x is less than y\")\n",
        "elif x < z:\n",
        "    print(\"x is less than z\")\n",
        "else:\n",
        "    print(\"x is equal to y\")"
      ],
      "execution_count": 0,
      "outputs": [
        {
          "output_type": "stream",
          "text": [
            "x is less than z\n"
          ],
          "name": "stdout"
        }
      ]
    },
    {
      "cell_type": "markdown",
      "metadata": {
        "id": "Mj-3ZS1wwDx2",
        "colab_type": "text"
      },
      "source": [
        "### Exercise 4:\n",
        "Write a Python program to test and print whether the input number is within 100 of 1000."
      ]
    },
    {
      "cell_type": "code",
      "metadata": {
        "id": "kp4Y0RkUye0T",
        "colab_type": "code",
        "outputId": "bfa70f8f-70f5-423c-a905-aa64eaf2bbbb",
        "colab": {
          "base_uri": "https://localhost:8080/",
          "height": 50
        }
      },
      "source": [
        "x = int(input(\"Input an integer : \"))\n",
        "y = 900\n",
        "z = 1100\n",
        "if (x > y)&(x < z):\n",
        "  print(\"this number is witihin 100 of 1000\")\n",
        "else:\n",
        "  print(\"this number is not within 100 of 1000\")"
      ],
      "execution_count": 0,
      "outputs": [
        {
          "output_type": "stream",
          "text": [
            "Input an integer : 850\n",
            "this number is not within 100 of 1000\n"
          ],
          "name": "stdout"
        }
      ]
    },
    {
      "cell_type": "markdown",
      "metadata": {
        "id": "AwDjLZz8wDx4",
        "colab_type": "text"
      },
      "source": [
        "#### For loops"
      ]
    },
    {
      "cell_type": "code",
      "metadata": {
        "id": "zWtvwNjNwDx5",
        "colab_type": "code",
        "outputId": "b303379a-eae7-487c-b9bc-c2144dc91c4f",
        "colab": {}
      },
      "source": [
        "for number in [1, 2, 3, 4, 5]:\n",
        "    print(number)"
      ],
      "execution_count": 0,
      "outputs": [
        {
          "output_type": "stream",
          "text": [
            "1\n",
            "2\n",
            "3\n",
            "4\n",
            "5\n"
          ],
          "name": "stdout"
        }
      ]
    },
    {
      "cell_type": "code",
      "metadata": {
        "id": "ZtZcuKCgwDyD",
        "colab_type": "code",
        "outputId": "7142756f-215c-4ae3-8c92-c15b4df24700",
        "colab": {}
      },
      "source": [
        "for number in range(5):\n",
        "    print(\"Python\")"
      ],
      "execution_count": 0,
      "outputs": [
        {
          "output_type": "stream",
          "text": [
            "Python\n",
            "Python\n",
            "Python\n",
            "Python\n",
            "Python\n"
          ],
          "name": "stdout"
        }
      ]
    },
    {
      "cell_type": "markdown",
      "metadata": {
        "id": "qOmo4dKDwDyI",
        "colab_type": "text"
      },
      "source": [
        "#### Data structures"
      ]
    },
    {
      "cell_type": "code",
      "metadata": {
        "id": "KsbAdvGWwDyJ",
        "colab_type": "code",
        "outputId": "3a6f2704-65e6-41a8-8f31-dd9ad9edf672",
        "colab": {}
      },
      "source": [
        "#List of various entities\n",
        "intList = [10, 20, 30, 40]\n",
        "strList = [\"Canada\", \"Japan\", \"London\"]\n",
        "mixList = [\"Canada\", 20, True, 500.50]\n",
        "generate = [x + 6 for x in [4, 5, 6]]  # Generate from loop: list comprehension\n",
        "listfromtuple = list((5, 13, 15, 17, 29))  # List from a tuple\n",
        "python = list('python')  # List from a string\n",
        " \n",
        "print(intList)\n",
        "print(strList)\n",
        "print(mixList)\n",
        "print(generate)\n",
        "print(listfromtuple)\n",
        "print(python)"
      ],
      "execution_count": 0,
      "outputs": [
        {
          "output_type": "stream",
          "text": [
            "[10, 20, 30, 40]\n",
            "['Canada', 'Japan', 'London']\n",
            "['Canada', 20, True, 500.5]\n",
            "[10, 11, 12]\n",
            "[5, 13, 15, 17, 29]\n",
            "['p', 'y', 't', 'h', 'o', 'n']\n"
          ],
          "name": "stdout"
        }
      ]
    },
    {
      "cell_type": "code",
      "metadata": {
        "id": "XqtH324XwDyO",
        "colab_type": "code",
        "outputId": "8a6c2e6c-bd6c-4dff-9c92-9352dfcf6434",
        "colab": {}
      },
      "source": [
        "#Accessing list items by index\n",
        "testList = [\"Canada\", \"Japan\", \"London\"]\n",
        "print(testList[1])\n",
        "print(testList[-2])"
      ],
      "execution_count": 0,
      "outputs": [
        {
          "output_type": "stream",
          "text": [
            "Japan\n",
            "Japan\n"
          ],
          "name": "stdout"
        }
      ]
    },
    {
      "cell_type": "code",
      "metadata": {
        "id": "C9EZrzi4wDyT",
        "colab_type": "code",
        "outputId": "b639685a-4abd-4c14-cd57-16c3fcf34b12",
        "colab": {}
      },
      "source": [
        "#Changing list items directly\n",
        "testList = [\"Canada\", \"Japan\", \"London\"]\n",
        "print(testList)\n",
        " \n",
        "testList[0] = \"Germany\"\n",
        "testList[1] = 100\n",
        "print(testList)"
      ],
      "execution_count": 0,
      "outputs": [
        {
          "output_type": "stream",
          "text": [
            "['Canada', 'Japan', 'London']\n",
            "['Germany', 100, 'London']\n"
          ],
          "name": "stdout"
        }
      ]
    },
    {
      "cell_type": "code",
      "metadata": {
        "id": "q5KhChJKwDyY",
        "colab_type": "code",
        "outputId": "a84ee482-e0cc-4477-dc15-81fcb3a706c3",
        "colab": {}
      },
      "source": [
        "#Removing duplicate entries in a list:\n",
        "testList = [\"Canada\", \"Japan\", \"Canada\", \"Germany\", \"Japan\", \"Italy\"]\n",
        "\n",
        "print(testList)\n",
        " \n",
        "cleanlist = []\n",
        "#The following is an example if a powerful Python utility called \"list comprehension\"\n",
        "[cleanlist.append(x) for x in testList if x not in cleanlist]\n",
        "\n",
        "print(cleanlist)"
      ],
      "execution_count": 0,
      "outputs": [
        {
          "output_type": "stream",
          "text": [
            "['Canada', 'Japan', 'Canada', 'Germany', 'Japan', 'Italy']\n",
            "['Canada', 'Japan', 'Germany', 'Italy']\n"
          ],
          "name": "stdout"
        }
      ]
    },
    {
      "cell_type": "code",
      "metadata": {
        "id": "bEfBj_xvwDyc",
        "colab_type": "code",
        "outputId": "c92bf3ef-ba2a-4579-9991-fd24ac863574",
        "colab": {}
      },
      "source": [
        "#The difference between two lists:\n",
        "list1 = [\"Canada\", \"Japan\", \"Canada\", \"Germany\", \"Japan\", \"Italy\"]\n",
        "list2 = [\"Germany\", \"France\", \"Poland\", \"Italy\", \"India\", \"London\"]\n",
        "\n",
        "#when chaning a list to a set, only unique entries are kept and in no specific order \n",
        "sub1 = list(set(list1) - set(list2))\n",
        "print(sub1)\n",
        " \n",
        "sub2 = list(set(list2) - set(list1))\n",
        "print(sub2)"
      ],
      "execution_count": 0,
      "outputs": [
        {
          "output_type": "stream",
          "text": [
            "['Canada', 'Japan']\n",
            "['Poland', 'London', 'India', 'France']\n"
          ],
          "name": "stdout"
        }
      ]
    },
    {
      "cell_type": "markdown",
      "metadata": {
        "id": "eTD8UlViwDyg",
        "colab_type": "text"
      },
      "source": [
        "### Exercise 5\n",
        "Write a Python program to print out a set containing all the colors from color_list_1 which are not present in color_list_2.    Here is an example:  \n",
        "\n",
        "Test Data :  \n",
        "color_list_1 = set([\"White\", \"Black\", \"Red\"])  \n",
        "color_list_2 = set([\"Red\", \"Green\"])  \n",
        "Expected Output :  \n",
        "{'Black', 'White'}  "
      ]
    },
    {
      "cell_type": "code",
      "metadata": {
        "id": "Etfq7CC-1JIq",
        "colab_type": "code",
        "outputId": "7ea23f8d-5636-44b1-e8cb-0bee3b3ac692",
        "colab": {
          "base_uri": "https://localhost:8080/",
          "height": 34
        }
      },
      "source": [
        "color_list_1 = set([\"White\", \"Black\", \"Red\"])\n",
        "color_list_2 = set([\"Red\", \"Green\"])\n",
        "print(color_list_1-color_list_2)"
      ],
      "execution_count": 0,
      "outputs": [
        {
          "output_type": "stream",
          "text": [
            "{'White', 'Black'}\n"
          ],
          "name": "stdout"
        }
      ]
    },
    {
      "cell_type": "markdown",
      "metadata": {
        "id": "tmvLdCRDwDyh",
        "colab_type": "text"
      },
      "source": [
        "#### Dictionaries are a more general type of list, where each entry is a key:value pair\n",
        "#There are many ways to generate dictionaries"
      ]
    },
    {
      "cell_type": "code",
      "metadata": {
        "id": "Uq2UQwFWwDyj",
        "colab_type": "code",
        "outputId": "189bcac8-3d0f-4a3a-a8c2-bb0a1ecba98b",
        "colab": {}
      },
      "source": [
        "#The follwoing are all equivalent ways of creating the same dictionary\n",
        "\n",
        "d1 = dict(Canada=100, Japan=500)\n",
        "d2 = {'Canada': 100, 'Japan': 500}\n",
        "d3 = dict(zip(['Canada', 'Japan'], [100, 500]))\n",
        "d4 = dict([('Canada', 100), ('Japan', 500)])\n",
        "d5 = dict({'Japan': 500, 'Canada': 100})\n",
        "print(d1)\n",
        "print(d2)\n",
        "print(d3)\n",
        "print(d4)\n",
        "print(d5)   "
      ],
      "execution_count": 0,
      "outputs": [
        {
          "output_type": "stream",
          "text": [
            "{'Canada': 100, 'Japan': 500}\n",
            "{'Canada': 100, 'Japan': 500}\n",
            "{'Canada': 100, 'Japan': 500}\n",
            "{'Canada': 100, 'Japan': 500}\n",
            "{'Japan': 500, 'Canada': 100}\n"
          ],
          "name": "stdout"
        }
      ]
    },
    {
      "cell_type": "code",
      "metadata": {
        "id": "rAI9OVjVwDyn",
        "colab_type": "code",
        "outputId": "11fca93a-8ef4-42c9-92a4-b1300b3154e9",
        "colab": {}
      },
      "source": [
        "#here are ways to get values of keys from a dictionary:\n",
        "d1 = {'Canada': 100, 'Japan': 500}\n",
        "x = d1[\"Canada\"]\n",
        "y = d1.get(\"Japan\")\n",
        "print(x)\n",
        "print(y)"
      ],
      "execution_count": 0,
      "outputs": [
        {
          "output_type": "stream",
          "text": [
            "100\n",
            "500\n"
          ],
          "name": "stdout"
        }
      ]
    },
    {
      "cell_type": "markdown",
      "metadata": {
        "id": "s-QWGs15wDyr",
        "colab_type": "text"
      },
      "source": [
        "#### to retrieve keys and values as lists"
      ]
    },
    {
      "cell_type": "code",
      "metadata": {
        "id": "83Gu97yYwDys",
        "colab_type": "code",
        "outputId": "ffdeeb02-df3a-42a5-c1f7-8994069d6678",
        "colab": {}
      },
      "source": [
        "for item in d1.keys():\n",
        "    print(item)"
      ],
      "execution_count": 0,
      "outputs": [
        {
          "output_type": "stream",
          "text": [
            "Canada\n",
            "Japan\n"
          ],
          "name": "stdout"
        }
      ]
    },
    {
      "cell_type": "code",
      "metadata": {
        "id": "Ntjj9sl_wDyw",
        "colab_type": "code",
        "outputId": "1570747a-2c8d-44f8-d778-55abdceff933",
        "colab": {}
      },
      "source": [
        "##values as a list\n",
        "list(d1.values())"
      ],
      "execution_count": 0,
      "outputs": [
        {
          "output_type": "execute_result",
          "data": {
            "text/plain": [
              "[100, 500]"
            ]
          },
          "metadata": {
            "tags": []
          },
          "execution_count": 31
        }
      ]
    },
    {
      "cell_type": "markdown",
      "metadata": {
        "id": "ykHMv0DxwDy0",
        "colab_type": "text"
      },
      "source": [
        "### Exercise 6\n",
        "Print each of the keys and corresponding values, one per line, in a dictionary (say d3) in the format: key = value"
      ]
    },
    {
      "cell_type": "code",
      "metadata": {
        "id": "LuveITcF10tP",
        "colab_type": "code",
        "outputId": "11be080b-50c6-4eb8-b2d2-7654a1dad8fa",
        "colab": {
          "base_uri": "https://localhost:8080/",
          "height": 50
        }
      },
      "source": [
        "d3 = dict(zip(['Canada', 'Japan'], [100, 500]))\n",
        "for x in d3:\n",
        "  print(x,\" = \",d3[x])"
      ],
      "execution_count": 0,
      "outputs": [
        {
          "output_type": "stream",
          "text": [
            "Canada  =  100\n",
            "Japan  =  500\n"
          ],
          "name": "stdout"
        }
      ]
    },
    {
      "cell_type": "markdown",
      "metadata": {
        "id": "m9m0dvy0wDy1",
        "colab_type": "text"
      },
      "source": [
        "#### Classes and Objects"
      ]
    },
    {
      "cell_type": "code",
      "metadata": {
        "id": "45Fz5u-6wDy3",
        "colab_type": "code",
        "colab": {}
      },
      "source": [
        "#A class is an abstraction of an entity\n",
        "class Employee:\n",
        "    name = \"John\"\n",
        "    age = 26"
      ],
      "execution_count": 0,
      "outputs": []
    },
    {
      "cell_type": "code",
      "metadata": {
        "id": "wxs2f7sjwDy6",
        "colab_type": "code",
        "outputId": "60289ff4-666c-4f4e-dc45-5e39a54134c1",
        "colab": {
          "base_uri": "https://localhost:8080/",
          "height": 50
        }
      },
      "source": [
        "#Here is how to create an object of the class Employee\n",
        "e = Employee()\n",
        "print(e.name, e.age)\n",
        "print(type(e))  # <class '__main__.Employee'>"
      ],
      "execution_count": 0,
      "outputs": [
        {
          "output_type": "stream",
          "text": [
            "John 26\n",
            "<class '__main__.Employee'>\n"
          ],
          "name": "stdout"
        }
      ]
    },
    {
      "cell_type": "code",
      "metadata": {
        "id": "UWZWiQV9wDy-",
        "colab_type": "code",
        "outputId": "724dcb16-1ed8-4bcf-b4a3-3d8eccd52520",
        "colab": {}
      },
      "source": [
        "#Typically a class object will have initializer to set initial value to its attributes, as in this example:\n",
        "class Employee:\n",
        "    def __init__(self, name, age):\n",
        "        self.name = name\n",
        "        self.age = age\n",
        " \n",
        " \n",
        "e = Employee(\"Sam\", 36)\n",
        "print(e.name, e.age)"
      ],
      "execution_count": 0,
      "outputs": [
        {
          "output_type": "stream",
          "text": [
            "Sam 36\n"
          ],
          "name": "stdout"
        }
      ]
    },
    {
      "cell_type": "code",
      "metadata": {
        "id": "K2IZ2ZbfwDzF",
        "colab_type": "code",
        "outputId": "b892b93d-5a9b-4758-80c4-6695571d8d9f",
        "colab": {}
      },
      "source": [
        "#Another important part of a class object are its methods\n",
        "class Employee:\n",
        "    def __init__(self, name, age):\n",
        "        self.name = name\n",
        "        self.age = age\n",
        "    \n",
        "    #method \"details\"\n",
        "    def details(self):\n",
        "        print(\"Employee Name:\",  self.name)\n",
        "        print(\"Employee Age:\", self.age)\n",
        " \n",
        " \n",
        "emp = Employee(\"Sam\", 36)\n",
        "emp.details()"
      ],
      "execution_count": 0,
      "outputs": [
        {
          "output_type": "stream",
          "text": [
            "Employee Name: Sam\n",
            "Employee Age: 36\n"
          ],
          "name": "stdout"
        }
      ]
    },
    {
      "cell_type": "markdown",
      "metadata": {
        "id": "zvyq_UYwwDzJ",
        "colab_type": "text"
      },
      "source": [
        "### Exercise 7:\n",
        "Create a python class \"Student\" with \n",
        "\n",
        "- attributes: name, age, major, year in college\n",
        "- methods: \n",
        "           1. __init__ that allows to initialize the each Student instance with attributes when created\n",
        "           2. details that prints out name, age and major when called"
      ]
    },
    {
      "cell_type": "code",
      "metadata": {
        "id": "fAmLc270wDzK",
        "colab_type": "code",
        "outputId": "ab1a6318-8c3d-4f26-e5ca-85d5fb367af7",
        "colab": {
          "base_uri": "https://localhost:8080/",
          "height": 84
        }
      },
      "source": [
        "class student:\n",
        "  def __init__(student,name,age,major,year):\n",
        "    student.name = name\n",
        "    student.age = age\n",
        "    student.major = major\n",
        "    student.year = year \n",
        "\n",
        "  def details(student):\n",
        "    print(\"student name: \", student.name)\n",
        "    print(\"student age: \", student.age)\n",
        "    print(\"student major: \", student.major)\n",
        "    print(\"student year: \", student.year)\n",
        "\n",
        "\n",
        "st = student(\"Jason\", \"21\", \"Mathematical-Science\", \"2017\")\n",
        "st.details()\n"
      ],
      "execution_count": 11,
      "outputs": [
        {
          "output_type": "stream",
          "text": [
            "student name:  Jason\n",
            "student age:  21\n",
            "student major:  Mathematical-Science\n",
            "student year:  2017\n"
          ],
          "name": "stdout"
        }
      ]
    }
  ]
}